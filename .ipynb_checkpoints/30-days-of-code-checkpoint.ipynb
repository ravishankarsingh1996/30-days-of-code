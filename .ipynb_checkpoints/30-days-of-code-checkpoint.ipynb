{
 "cells": [
  {
   "cell_type": "markdown",
   "metadata": {},
   "source": [
    "## Day 1"
   ]
  },
  {
   "cell_type": "code",
   "execution_count": 1,
   "metadata": {},
   "outputs": [
    {
     "name": "stdout",
     "output_type": "stream",
     "text": [
      "1. Python Keyword\n",
      "['False', 'None', 'True', 'and', 'as', 'assert', 'async', 'await', 'break', 'class', 'continue', 'def', 'del', 'elif', 'else', 'except', 'finally', 'for', 'from', 'global', 'if', 'import', 'in', 'is', 'lambda', 'nonlocal', 'not', 'or', 'pass', 'raise', 'return', 'try', 'while', 'with', 'yield'] \n",
      "\n",
      "Total keyword count in python is:  35\n"
     ]
    }
   ],
   "source": [
    "#Day 1\n",
    "#TODO Get all keywords in Python\n",
    "\n",
    "import keyword\n",
    "print(\"1. Python Keyword\")\n",
    "print(keyword.kwlist, \"\\n\")\n",
    "\n",
    "print(\"Total keyword count in python is: \", len(keyword.kwlist))"
   ]
  },
  {
   "cell_type": "code",
   "execution_count": 2,
   "metadata": {},
   "outputs": [
    {
     "name": "stdout",
     "output_type": "stream",
     "text": [
      "\n",
      "\n",
      "2. Yield keyword\n",
      "Yeild generator function output:\n",
      "0\n",
      "1\n",
      "2\n",
      "3\n",
      "4\n",
      "5\n",
      "6\n",
      "7\n",
      "8\n",
      "9\n"
     ]
    }
   ],
   "source": [
    "####################################################################################################################\n",
    "\n",
    "#Yield keyword\n",
    "print(\"\\n\\n2. Yield keyword\")\n",
    "## generator function\n",
    "def yieldFunction():\n",
    "    for i in range(10):\n",
    "        yield(i)\n",
    "    \n",
    "\n",
    "#print \n",
    "print(\"Yeild generator function output:\")\n",
    "for x in yieldFunction():\n",
    "    \n",
    "    print(x)"
   ]
  },
  {
   "cell_type": "code",
   "execution_count": 3,
   "metadata": {},
   "outputs": [
    {
     "name": "stdout",
     "output_type": "stream",
     "text": [
      "\n",
      "\n",
      "3. Python Statement\n",
      "\n",
      "New Line Character\n",
      "Output: 56 \n",
      "\n",
      "Line Continuation Character\n",
      "Output: 56 \n",
      "\n",
      "Multiple statement in single line using ';'\n",
      "20 \n",
      "33 \n"
     ]
    }
   ],
   "source": [
    "####################################################################################################################\n",
    "\n",
    "#Python Statement\n",
    "print(\"\\n\\n3. Python Statement\")\n",
    "\n",
    "print(\"\\nNew Line Character\")\n",
    "a = 1 + 23 + \\\n",
    "    21 + 2 + \\\n",
    "    9\n",
    "\n",
    "print(\"Output:\",a,\"\")\n",
    "\n",
    "\n",
    "print(\"\\nLine Continuation Character\")\n",
    "a = (1 + 23 + \n",
    "    21 + 2 + \n",
    "    9)\n",
    "\n",
    "print(\"Output:\",a,\"\")\n",
    "\n",
    "print(\"\\nMultiple statement in single line using ';'\")\n",
    "a = 20; b = 21; c = 12; print(a,\"\"); print(b+c,\"\")"
   ]
  },
  {
   "cell_type": "code",
   "execution_count": null,
   "metadata": {},
   "outputs": [],
   "source": []
  }
 ],
 "metadata": {
  "kernelspec": {
   "display_name": "Python 3",
   "language": "python",
   "name": "python3"
  },
  "language_info": {
   "codemirror_mode": {
    "name": "ipython",
    "version": 3
   },
   "file_extension": ".py",
   "mimetype": "text/x-python",
   "name": "python",
   "nbconvert_exporter": "python",
   "pygments_lexer": "ipython3",
   "version": "3.7.6"
  }
 },
 "nbformat": 4,
 "nbformat_minor": 4
}
