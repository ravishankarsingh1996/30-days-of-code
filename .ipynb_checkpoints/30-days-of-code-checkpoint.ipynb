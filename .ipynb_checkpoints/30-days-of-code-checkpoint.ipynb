{
 "cells": [
  {
   "cell_type": "markdown",
   "metadata": {},
   "source": [
    "## Day 1"
   ]
  },
  {
   "cell_type": "code",
   "execution_count": 1,
   "metadata": {},
   "outputs": [
    {
     "name": "stdout",
     "output_type": "stream",
     "text": [
      "1. Python Keyword\n",
      "['False', 'None', 'True', 'and', 'as', 'assert', 'async', 'await', 'break', 'class', 'continue', 'def', 'del', 'elif', 'else', 'except', 'finally', 'for', 'from', 'global', 'if', 'import', 'in', 'is', 'lambda', 'nonlocal', 'not', 'or', 'pass', 'raise', 'return', 'try', 'while', 'with', 'yield'] \n",
      "\n",
      "Total keyword count in python is:  35\n"
     ]
    }
   ],
   "source": [
    "#TODO Get all keywords in Python\n",
    "\n",
    "import keyword\n",
    "print(\"1. Python Keyword\")\n",
    "print(keyword.kwlist, \"\\n\")\n",
    "\n",
    "print(\"Total keyword count in python is: \", len(keyword.kwlist))"
   ]
  },
  {
   "cell_type": "code",
   "execution_count": 2,
   "metadata": {},
   "outputs": [
    {
     "name": "stdout",
     "output_type": "stream",
     "text": [
      "\n",
      "\n",
      "2. Yield keyword\n",
      "Yeild generator function output:\n",
      "0\n",
      "1\n",
      "2\n",
      "3\n",
      "4\n",
      "5\n",
      "6\n",
      "7\n",
      "8\n",
      "9\n"
     ]
    }
   ],
   "source": [
    "#Yield keyword\n",
    "print(\"\\n\\n2. Yield keyword\")\n",
    "## generator function\n",
    "def yieldFunction():\n",
    "    for i in range(10):\n",
    "        yield(i)\n",
    "    \n",
    "\n",
    "#print \n",
    "print(\"Yeild generator function output:\")\n",
    "for x in yieldFunction():\n",
    "    \n",
    "    print(x)"
   ]
  },
  {
   "cell_type": "code",
   "execution_count": 3,
   "metadata": {},
   "outputs": [
    {
     "name": "stdout",
     "output_type": "stream",
     "text": [
      "\n",
      "\n",
      "3. Python Statement\n",
      "\n",
      "New Line Character\n",
      "Output: 56 \n",
      "\n",
      "Line Continuation Character\n",
      "Output: 56 \n",
      "\n",
      "Multiple statement in single line using ';'\n",
      "20 \n",
      "33 \n"
     ]
    }
   ],
   "source": [
    "#Python Statement\n",
    "print(\"\\n\\n3. Python Statement\")\n",
    "\n",
    "print(\"\\nNew Line Character\")\n",
    "a = 1 + 23 + \\\n",
    "    21 + 2 + \\\n",
    "    9\n",
    "\n",
    "print(\"Output:\",a,\"\")\n",
    "\n",
    "\n",
    "print(\"\\nLine Continuation Character\")\n",
    "a = (1 + 23 + \n",
    "    21 + 2 + \n",
    "    9)\n",
    "\n",
    "print(\"Output:\",a,\"\")\n",
    "\n",
    "print(\"\\nMultiple statement in single line using ';'\")\n",
    "a = 20; b = 21; c = 12; print(a,\"\"); print(b+c,\"\")"
   ]
  },
  {
   "cell_type": "markdown",
   "metadata": {},
   "source": [
    "## Day 2"
   ]
  },
  {
   "cell_type": "code",
   "execution_count": 14,
   "metadata": {},
   "outputs": [
    {
     "name": "stdout",
     "output_type": "stream",
     "text": [
      "\n",
      "4. Variables in python\n",
      "a =  2 ,\n",
      "b =  5.3 ,\n",
      "c =  Python is awesome \n",
      "\n"
     ]
    }
   ],
   "source": [
    "#Variables in python\n",
    "print(\"\\n4. Variables in python\")\n",
    "\n",
    "a = 2\n",
    "b = 5.3\n",
    "c = \"Python is awesome\"\n",
    "\n",
    "print(\"a = \",a, ',\\nb = ', b,',\\nc = ', c,'\\n')"
   ]
  },
  {
   "cell_type": "code",
   "execution_count": 32,
   "metadata": {},
   "outputs": [
    {
     "name": "stdout",
     "output_type": "stream",
     "text": [
      "\n",
      "5. Multiple Assignment\n",
      "\n",
      "Assigning different values to different variables in single line\n",
      "a, b, c = 10, 5.2, \"Python Multiple Assignment\"\n",
      "a =  10\n",
      "b =  5.2\n",
      "c =  Python Multiple Assignment\n",
      "\n",
      "Assigning same values to different variables at once\n",
      "a = b = c = \"Same Data assigned to multiple variables\"\n",
      "a =  Same Data assigned to multiple variables\n",
      "b =  Same Data assigned to multiple variables\n",
      "c =  Same Data assigned to multiple variables\n"
     ]
    }
   ],
   "source": [
    "#Multiple Assignment \n",
    "print(\"\\n5. Multiple Assignment\")\n",
    "\n",
    "\n",
    "#Assigning different values to different variables in single line\n",
    "print(\"\\nAssigning different values to different variables in single line\")\n",
    "\n",
    "a, b, c = 10, 5.2, \"Python Multiple Assignment\"\n",
    "\n",
    "print(\"a, b, c = 10, 5.2, \\\"Python Multiple Assignment\\\"\")\n",
    "print(\"a = \", a)\n",
    "print(\"b = \", b)\n",
    "print(\"c = \", c)\n",
    "\n",
    "#Assigning same values to different variables at once\n",
    "print(\"\\nAssigning same values to different variables at once\")\n",
    "\n",
    "a = b = c = \"Same Data assigned to multiple variables\"\n",
    "\n",
    "print(\"a = b = c = \\\"Same Data assigned to multiple variables\\\"\")\n",
    "print(\"a = \", a)\n",
    "print(\"b = \", b)\n",
    "print(\"c = \", c)"
   ]
  },
  {
   "cell_type": "code",
   "execution_count": 58,
   "metadata": {},
   "outputs": [
    {
     "name": "stdout",
     "output_type": "stream",
     "text": [
      "\n",
      "6. Storage Location in Python\n",
      "id(x) is used to get the location of variable x in memory.\n",
      "x = 10\n",
      "Location of variable x is 4299568544\n",
      "y = 10\n",
      "Location of variable y is 4299568544\n",
      "\n",
      "Note: Both x and y refrence to same memory location that's why there memory address is same,\n",
      "Python link the new defined variable y to same memory location if that data is already in momory\n",
      "\n",
      "If we change the value it point to a new memory address\n",
      "y = 20\n",
      "Location of variable y is 4299568864\n"
     ]
    }
   ],
   "source": [
    "#Storage Location in Python\n",
    "print(\"\\n6. Storage Location in Python\")\n",
    "print(\"id(x) is used to get the location of variable x in memory.\")\n",
    "\n",
    "x = 10\n",
    "print(\"x = 10\")\n",
    "print(\"Location of variable x is\",id(x))\n",
    "\n",
    "y = 10\n",
    "print(\"y = 10\")\n",
    "print(\"Location of variable y is\",id(y))\n",
    "\n",
    "print(\"\"\"\\nNote: Both x and y refrence to same memory location that's why there memory address is same,\n",
    "Python link the new defined variable y to same memory location if that data is already in momory\"\"\")\n",
    "\n",
    "\n",
    "print(\"\\nIf we change the value it point to a new memory address\")\n",
    "y = 20\n",
    "print(\"y = 20\")\n",
    "print(\"Location of variable y is\", id(y))"
   ]
  },
  {
   "cell_type": "code",
   "execution_count": 1,
   "metadata": {},
   "outputs": [
    {
     "name": "stdout",
     "output_type": "stream",
     "text": [
      "\n",
      "7. Data Types in Python\n",
      "\n",
      "Numbers\n",
      "x = 4\n",
      "We will use type(x) function to identify the type of data\n",
      "4 is type of <class 'int'>\n",
      "x = 4.44\n",
      "4.44 is type of <class 'float'>\n",
      "x = 1 + 2j\n",
      "(1+2j) is type of <class 'complex'>\n",
      "\n",
      "\n",
      "String\n",
      "x = \"Python is awesome\"\n",
      "Python is awesome\n",
      "Type of x <class 'str'>\n",
      "Length of x 17\n",
      "Last character of x is e\n",
      "Sub-String or Slice of string x from position 2 to 9 is \" thon is \"\n"
     ]
    }
   ],
   "source": [
    "#Data Types in Python\n",
    "print(\"\\n7. Data Types in Python\")\n",
    "\n",
    "#Numbers\n",
    "print(\"\\nNumbers\")\n",
    "x = 4\n",
    "print(\"x = 4\")\n",
    "print(\"We will use type(x) function to identify the type of data\")\n",
    "print(x, 'is type of', type(x))\n",
    "\n",
    "x = 4.44\n",
    "print(\"x = 4.44\")\n",
    "print(x, 'is type of', type(x))\n",
    "\n",
    "x = 1 + 2j\n",
    "print(\"x = 1 + 2j\")\n",
    "print(x, 'is type of', type(x))\n",
    "\n",
    "\n",
    "print(\"\\n\\nString\")\n",
    "\n",
    "x = \"Python is awesome\"\n",
    "print(\"x = \\\"Python is awesome\\\"\")\n",
    "print(x)\n",
    "print(\"Type of x\", type(x))\n",
    "print(\"Length of x\", len(x))\n",
    "print(\"Last character of x is\",x[len(x) - 1])\n",
    "print(\"Sub-String or Slice of string x from position 2 to 9 is \\\"\", x[2:9],\"\\\"\")"
   ]
  },
  {
   "cell_type": "markdown",
   "metadata": {},
   "source": [
    "## Day 3"
   ]
  },
  {
   "cell_type": "code",
   "execution_count": 1,
   "metadata": {},
   "outputs": [
    {
     "name": "stdout",
     "output_type": "stream",
     "text": [
      "\n",
      "7. Data Types in Python\n",
      "\n",
      "List\n",
      "[1, 34.4, 'Python List item']\n",
      "1\n",
      "34.4\n",
      "Python List item\n",
      "[1, 34.4, 23]\n",
      "\n",
      "Tupples\n",
      "(5, 4.5, 'Hello Python')\n",
      "5\n",
      "4.5\n",
      "Hello Python\n",
      "\n",
      "Set\n",
      "{10, 43, 20, 50}\n",
      "Set is an unorderd collection of unique items\n",
      "<class 'set'>\n",
      "{10, 43, 50, 20, 28, 30}\n",
      "\n",
      "Dictionary\n",
      "{'a': 10, 'b': 23, 'c': 'Hello'}\n",
      "10\n"
     ]
    }
   ],
   "source": [
    "#Data Types in Python\n",
    "print(\"\\n7. Data Types in Python\")\n",
    "\n",
    "print(\"\\nList\")\n",
    "\n",
    "a = [1, 34.4, \"Python List item\"]\n",
    "print(a)\n",
    "print(a[0])\n",
    "print(a[1])\n",
    "print(a[2])\n",
    "\n",
    "a[2] = 23\n",
    "print(a) #We can change the value of list which means its mutable\n",
    "\n",
    "\n",
    "print(\"\\nTupples\")\n",
    "\n",
    "a = (5, 4.5, \"Hello Python\")\n",
    "print(a)\n",
    "print(a[0])\n",
    "print(a[1])\n",
    "print(a[2])\n",
    "# a[0] = 1 we can not change the value of a tupple as its immutable.\n",
    "\n",
    "\n",
    "print(\"\\nSet\")\n",
    "\n",
    "a= {10, 20, 43,50}\n",
    "print(a)\n",
    "print(\"Set is an unorderd collection of unique items\")\n",
    "\n",
    "print(type(a))\n",
    "\n",
    "a = {10,10,20,43, 50, 28, 20, 30, 10}\n",
    "print(a) #Set do not consider duplicate values\n",
    "\n",
    "print(\"\\nDictionary\")\n",
    "x = {'a': 10, 'b': 23, 'c':\"Hello\"}\n",
    "\n",
    "print(x)\n",
    "print(x['a'])"
   ]
  },
  {
   "cell_type": "markdown",
   "metadata": {},
   "source": [
    "## Day 4"
   ]
  },
  {
   "cell_type": "code",
   "execution_count": null,
   "metadata": {},
   "outputs": [
    {
     "name": "stdout",
     "output_type": "stream",
     "text": [
      "\n",
      "8. Standard Input and Output in Python\n",
      "\n",
      "Standard Output\n",
      "We use print() function to output data to output device\n",
      "hello python world\n",
      "The value of a is 10\n",
      "The value of a is 10\n",
      "The value of a is 10 and value of b is 20\n",
      "The value of a is 20 and value of b is 10\n",
      "Hello my name is Ravi and my age is 24\n",
      "\n",
      "Standard Input\n"
     ]
    }
   ],
   "source": [
    "#Standard Input and Output in Python\n",
    "print(\"\\n8. Standard Input and Output in Python\")\n",
    "\n",
    "\n",
    "print(\"\\nStandard Output\")\n",
    "#We use print() function to output data to output device\n",
    "print(\"We use print() function to output data to output device\")\n",
    "print(\"hello python world\")\n",
    "\n",
    "\n",
    "a =10 \n",
    "print(\"The value of a is\", a) #in python 3 and above\n",
    "print(\"The value of a is \" + str(a))\n",
    "\n",
    "\n",
    "a = 10; b = 20\n",
    "\n",
    "\n",
    "print(\"The value of a is {} and value of b is {}\".format(a, b))\n",
    "print(\"The value of a is {1} and value of b is {0}\".format(a, b))\n",
    "print(\"Hello my name is {name} and my age is {age}\".format(name = \"Ravi\", age = 24))\n",
    "\n",
    "\n",
    "\n",
    "print(\"\\nStandard Input\")\n",
    "age = input(\"Enter your age\")\n",
    "print(\"Your age is\", age)"
   ]
  },
  {
   "cell_type": "markdown",
   "metadata": {},
   "source": [
    "\n",
    "## Day 5\n",
    "\n"
   ]
  },
  {
   "cell_type": "code",
   "execution_count": 58,
   "metadata": {
    "scrolled": true
   },
   "outputs": [
    {
     "name": "stdout",
     "output_type": "stream",
     "text": [
      "\n",
      "9. Operators\n",
      "\n",
      "Arithmetic Operator\n",
      "12\n",
      "20\n",
      "5.0\n",
      "2\n",
      "5\n",
      "100\n",
      "\n",
      "Comparision Operator\n",
      "False\n",
      "\n",
      "Logical Operator\n",
      "False\n",
      "True\n",
      "\n",
      "Biwise Operator\n",
      "0\n",
      "14\n",
      "\n",
      "Assignment Operators\n",
      "7\n"
     ]
    }
   ],
   "source": [
    "print(\"\\n9. Operators\")\n",
    "\n",
    "print(\"\\nArithmetic Operator\")\n",
    "\n",
    "# +, -, *, /, %, //, ** these are arithmetic operator in python\n",
    "\n",
    "x, y  = 10, 2\n",
    "#addition\n",
    "print(x + y) \n",
    "print(x * y)\n",
    "print(x / y)\n",
    "print(y % x)\n",
    "print(x // y)\n",
    "print(x ** y)\n",
    "\n",
    "print(\"\\nComparision Operator\")\n",
    "\n",
    "# <, >, ==, !=, >=, <= are comparision operators\n",
    "print(x < y) # check x is less than y\n",
    "\n",
    "print(\"\\nLogical Operator\")\n",
    "# and, or, not are operators\n",
    "a , b = True, False\n",
    "print(a and b)\n",
    "print(a and a)\n",
    "\n",
    "print(\"\\nBitwise Operator\")\n",
    "# &, |, ~, ^, >>, << are bitwise operators\n",
    "\n",
    "a , b = 10, 4\n",
    "\n",
    "#Bitwise AND\n",
    "print(a & b)\n",
    "\n",
    "#Bitwise OR\n",
    "print(a | b)\n",
    "\n",
    "print(\"\\nAssignment Operators\")\n",
    "\n",
    "# =, +=, -=, *=, /=, %=, //=, **=, &=, |=, ^=, >>=, <<= are assignment operators\n",
    "\n",
    "a = 2\n",
    "a+=5\n",
    "print(a)"
   ]
  },
  {
   "cell_type": "markdown",
   "metadata": {},
   "source": [
    "## Day 6"
   ]
  },
  {
   "cell_type": "code",
   "execution_count": 1,
   "metadata": {
    "scrolled": true
   },
   "outputs": [
    {
     "name": "stdout",
     "output_type": "stream",
     "text": [
      "\n",
      "10. Special Operators\n",
      "\n",
      "Identity Operators\n",
      "True\n",
      "False\n",
      "True\n",
      "False\n",
      "\n",
      "MemberShip Operators\n",
      "True\n",
      "False\n",
      "True\n",
      "False\n"
     ]
    }
   ],
   "source": [
    "print(\"\\n10. Special Operators\")\n",
    "\n",
    "print(\"\\nIdentity Operators\")\n",
    "# \"is\" keyword is used to check the identity between two\n",
    "a = 5\n",
    "b = 5\n",
    "print(a is b)\n",
    "\n",
    "x = [11, 22, 33]\n",
    "y = [11, 22, 33]\n",
    "\n",
    "print(x is y)\n",
    "\n",
    "s1 = \"Python\"\n",
    "s2 = \"Python\"\n",
    "\n",
    "print(s1 is s2)\n",
    "print(s1 is not s2)\n",
    "\n",
    "print(\"\\nMemberShip Operators\")\n",
    "# \"in\" and \"not in\" are the membership operators in python\n",
    "a = [1, 2, 3, 4]\n",
    "print(1 in a)\n",
    "print(23 in a)\n",
    "\n",
    "d = {1: \"a\", 2: \"c\"}\n",
    "print( 1 in d)\n",
    "print(\"a\" in d)"
   ]
  },
  {
   "cell_type": "markdown",
   "metadata": {},
   "source": [
    "## Day 7"
   ]
  },
  {
   "cell_type": "code",
   "execution_count": 29,
   "metadata": {},
   "outputs": [
    {
     "name": "stdout",
     "output_type": "stream",
     "text": [
      "\n",
      "11. Control Flow: if else\n",
      "\n",
      "if statement syntax\n",
      "Greater\n",
      "This will print always whether it satisfies condition or not.\n",
      "\n",
      "if else statement syntax\n",
      "Greater\n",
      "This will print always whether it satisfies condition or not.\n",
      "\n",
      "if elif else statement syntax\n",
      "n is 10\n",
      "This will print always whether it satisfies condition or not.\n",
      "\n",
      "Nested \"if\" statement\n",
      "Positive Number\n"
     ]
    }
   ],
   "source": [
    "print(\"\\n11. Control Flow: if else\")\n",
    "\n",
    "\n",
    "print(\"\\nif statement syntax\")\n",
    "\n",
    "n = 10\n",
    "if n > 0:\n",
    "    print(\"Greater\")\n",
    "print(\"This will print always whether it satisfies condition or not.\")\n",
    "\n",
    "print(\"\\nif else statement syntax\")\n",
    "\n",
    "n = 10\n",
    "if n > 0:\n",
    "    print(\"Greater\")\n",
    "else:\n",
    "    print(\"Smaller\")\n",
    "print(\"This will print always whether it satisfies condition or not.\")\n",
    "\n",
    "\n",
    "print(\"\\nif elif else statement syntax\")\n",
    "n = 10\n",
    "if n == 10 :\n",
    "    print(\"n is 10\")\n",
    "elif (n > 0):\n",
    "    print(\"Greater\")\n",
    "else:\n",
    "    print(\"Smaller\")\n",
    "print(\"This will print always whether it satisfies condition or not.\")\n",
    "\n",
    "\n",
    "print(\"\\nNested \\\"if\\\" statement\")\n",
    "num = 10.2\n",
    "\n",
    "if num >=0:\n",
    "    if num == 0:\n",
    "        print(\"Zero\")\n",
    "    else:\n",
    "        print(\"Positive Number\")\n",
    "else:\n",
    "    print(\"Negative Number\")\n",
    "\n",
    "#Todo : Python porogram to find the largest element among three numbers\n",
    "\n",
    "num1 = 100\n",
    "num2 = 20\n",
    "num3 = 150\n",
    "\n",
    "if(num1> num2) and (num1 > num3):\n",
    "    largest = num1\n",
    "elif (num2 >= num1) and (num2 >= num3):\n",
    "    largest = num2\n",
    "else:\n",
    "    largest = num3\n",
    "print(largest)"
   ]
  },
  {
   "cell_type": "markdown",
   "metadata": {},
   "source": [
    "## Day 8"
   ]
  },
  {
   "cell_type": "code",
   "execution_count": 5,
   "metadata": {},
   "outputs": [
    {
     "name": "stdout",
     "output_type": "stream",
     "text": [
      "\n",
      "12. Contriol Flow: while loop\n",
      "\n",
      "While Loop\n",
      "Sum is:150\n",
      "\n",
      "While loop with else\n",
      "10\n",
      "20\n",
      "30\n",
      "40\n",
      "50\n",
      "No item left in list\n"
     ]
    }
   ],
   "source": [
    "print(\"\\n12. Contriol Flow: while loop\")\n",
    "\n",
    "#Syntax:\n",
    "# while test_expression:\n",
    "#    Body of while\n",
    "\n",
    "\n",
    "print('\\nWhile Loop')\n",
    "a = [10,20,30,40,50]\n",
    "sumVal = 0\n",
    "index = 0\n",
    "\n",
    "while index < len(a):\n",
    "    sumVal += a[index]\n",
    "    index +=1\n",
    "    \n",
    "print('Sum is:{}'.format(sumVal))\n",
    "\n",
    "\n",
    "\n",
    "print('\\nWhile loop with else')\n",
    "a = [10,20,30,40,50]\n",
    "index = 0\n",
    "\n",
    "while index< len(a):\n",
    "    print(a[index])\n",
    "    index += 1\n",
    "else:\n",
    "    print('No item left in list')\n",
    "\n",
    "\n",
    "    "
   ]
  },
  {
   "cell_type": "code",
   "execution_count": null,
   "metadata": {},
   "outputs": [],
   "source": []
  }
 ],
 "metadata": {
  "kernelspec": {
   "display_name": "Python 3",
   "language": "python",
   "name": "python3"
  },
  "language_info": {
   "codemirror_mode": {
    "name": "ipython",
    "version": 3
   },
   "file_extension": ".py",
   "mimetype": "text/x-python",
   "name": "python",
   "nbconvert_exporter": "python",
   "pygments_lexer": "ipython3",
   "version": "3.7.6"
  }
 },
 "nbformat": 4,
 "nbformat_minor": 4
}
